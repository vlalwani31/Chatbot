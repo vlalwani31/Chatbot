{
 "cells": [
  {
   "cell_type": "code",
   "execution_count": 3,
   "metadata": {},
   "outputs": [],
   "source": [
    "#All the necessary Libaries\n",
    "import pyttsx3\n",
    "import speech_recognition as sr"
   ]
  },
  {
   "cell_type": "code",
   "execution_count": null,
   "metadata": {},
   "outputs": [
    {
     "name": "stdout",
     "output_type": "stream",
     "text": [
      "Viku is online\n",
      "Hi, what would you like me to do today?\n",
      "Understood!\n",
      "Sorry, I couldn't recognize your voice\n",
      "Hi, what would you like me to do today?\n",
      "Understood!\n",
      "You said : check the weather\n",
      "Hi, what would you like me to do today?\n",
      "Understood!\n",
      "You said : pagal\n",
      "Hi, what would you like me to do today?\n",
      "Understood!\n",
      "You said : spell out my name\n",
      "Hi, what would you like me to do today?\n",
      "Understood!\n",
      "You said : Soumya has small brain\n",
      "Hi, what would you like me to do today?\n",
      "Understood!\n",
      "You said : Manoj ispad\n",
      "Hi, what would you like me to do today?\n",
      "Understood!\n",
      "You said : stupid Varun small but\n",
      "Hi, what would you like me to do today?\n",
      "Understood!\n",
      "You said : shutdown area\n",
      "Hi, what would you like me to do today?\n",
      "Sorry, I couldn't recognize your voice\n",
      "Hi, what would you like me to do today?\n"
     ]
    }
   ],
   "source": [
    "#Chatbot has started\n",
    "print(\"Viku is online\");\n",
    "\n",
    "# Used to recognize what the user is speaking\n",
    "r = sr.Recognizer()\n",
    "# Used for output voice, Everything is initialized\n",
    "engine = pyttsx3.init()\n",
    "voices = engine.getProperty('voices')\n",
    "engine.setProperty('rate', 88)\n",
    "engine.setProperty('voice', voices[len(voices) - 1].id)\n",
    "\n",
    "# This line is there for testing purposes\n",
    "speech = \"Couldn't understand you\";\n",
    "\n",
    "with sr.Microphone() as source:\n",
    "    r.adjust_for_ambient_noise(source); # Removes background noises\n",
    "    speech = \"\";\n",
    "    \n",
    "    # Program exits when user says: \"quit\", \"shut down\" or \"bye\"\n",
    "    while ((speech.lower() != \"quit\") or (speech.lower() != \"shut down\") or (speech.lower() != \"bye\")):\n",
    "        print(\"Hi, what would you like me to do today?\")\n",
    "        try:\n",
    "            audio = r.listen(source, timeout = 4, phrase_time_limit = None) # timeout is the time limit to speak in\n",
    "            print(\"Understood!\")\n",
    "            speech = r.recognize_google(audio) # Uses Google to recognize audio, it would be better to use an offline source\n",
    "            \n",
    "            #This is where Logic Starts\n",
    "            if((speech.lower() != \"quit\") or (speech.lower() != \"shut down\") or (speech.lower() != \"bye\")):\n",
    "                print(\"You said : \" + speech);\n",
    "                engine.say(\"You said : \" + speech);\n",
    "            else:\n",
    "                engine.say(\"Byeeee\");\n",
    "        except:\n",
    "            print(\"Sorry, I couldn't recognize your voice\")\n",
    "            speech = \"Can you repeat that again\"\n",
    "            \n",
    "        # Not important to understand, but DO NOT DELETE OR CHANGE IT! \n",
    "        engine.runAndWait()\n",
    "        engine.stop()"
   ]
  },
  {
   "cell_type": "code",
   "execution_count": null,
   "metadata": {},
   "outputs": [],
   "source": []
  }
 ],
 "metadata": {
  "kernelspec": {
   "display_name": "Python 3",
   "language": "python",
   "name": "python3"
  },
  "language_info": {
   "codemirror_mode": {
    "name": "ipython",
    "version": 3
   },
   "file_extension": ".py",
   "mimetype": "text/x-python",
   "name": "python",
   "nbconvert_exporter": "python",
   "pygments_lexer": "ipython3",
   "version": "3.7.3"
  }
 },
 "nbformat": 4,
 "nbformat_minor": 2
}
